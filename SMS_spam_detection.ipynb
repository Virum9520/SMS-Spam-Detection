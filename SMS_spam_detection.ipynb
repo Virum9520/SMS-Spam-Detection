{
  "cells": [
    {
      "cell_type": "markdown",
      "metadata": {
        "id": "view-in-github",
        "colab_type": "text"
      },
      "source": [
        "<a href=\"https://colab.research.google.com/github/Virum9520/SMS-Spam-Detection/blob/main/SMS_spam_detection.ipynb\" target=\"_parent\"><img src=\"https://colab.research.google.com/assets/colab-badge.svg\" alt=\"Open In Colab\"/></a>"
      ]
    },
    {
      "cell_type": "markdown",
      "source": [
        "#Importing Dataset"
      ],
      "metadata": {
        "collapsed": false,
        "id": "9dcdf7388cf2a4dd"
      },
      "id": "9dcdf7388cf2a4dd"
    },
    {
      "cell_type": "code",
      "execution_count": null,
      "outputs": [],
      "source": [
        "import nltk\n",
        "import pandas as pd"
      ],
      "metadata": {
        "ExecuteTime": {
          "end_time": "2023-08-24T15:43:39.642694Z",
          "start_time": "2023-08-24T15:43:38.889195Z"
        },
        "id": "initial_id"
      },
      "id": "initial_id"
    },
    {
      "cell_type": "code",
      "execution_count": null,
      "outputs": [],
      "source": [
        "df = pd.read_csv('/Users/virum/PycharmProjects/NLP/sms+spam+collection/SMSSpamCollection', sep='\\t', names=['label','messages'])"
      ],
      "metadata": {
        "ExecuteTime": {
          "end_time": "2023-08-24T15:43:40.876984Z",
          "start_time": "2023-08-24T15:43:40.849884Z"
        },
        "id": "e9b6caf3372b77fc"
      },
      "id": "e9b6caf3372b77fc"
    },
    {
      "cell_type": "code",
      "execution_count": null,
      "outputs": [
        {
          "data": {
            "text/plain": "  label                                           messages\n0   ham  Go until jurong point, crazy.. Available only ...\n1   ham                      Ok lar... Joking wif u oni...\n2  spam  Free entry in 2 a wkly comp to win FA Cup fina...\n3   ham  U dun say so early hor... U c already then say...\n4   ham  Nah I don't think he goes to usf, he lives aro...",
            "text/html": "<div>\n<style scoped>\n    .dataframe tbody tr th:only-of-type {\n        vertical-align: middle;\n    }\n\n    .dataframe tbody tr th {\n        vertical-align: top;\n    }\n\n    .dataframe thead th {\n        text-align: right;\n    }\n</style>\n<table border=\"1\" class=\"dataframe\">\n  <thead>\n    <tr style=\"text-align: right;\">\n      <th></th>\n      <th>label</th>\n      <th>messages</th>\n    </tr>\n  </thead>\n  <tbody>\n    <tr>\n      <th>0</th>\n      <td>ham</td>\n      <td>Go until jurong point, crazy.. Available only ...</td>\n    </tr>\n    <tr>\n      <th>1</th>\n      <td>ham</td>\n      <td>Ok lar... Joking wif u oni...</td>\n    </tr>\n    <tr>\n      <th>2</th>\n      <td>spam</td>\n      <td>Free entry in 2 a wkly comp to win FA Cup fina...</td>\n    </tr>\n    <tr>\n      <th>3</th>\n      <td>ham</td>\n      <td>U dun say so early hor... U c already then say...</td>\n    </tr>\n    <tr>\n      <th>4</th>\n      <td>ham</td>\n      <td>Nah I don't think he goes to usf, he lives aro...</td>\n    </tr>\n  </tbody>\n</table>\n</div>"
          },
          "execution_count": 3,
          "metadata": {},
          "output_type": "execute_result"
        }
      ],
      "source": [
        "df.head()"
      ],
      "metadata": {
        "ExecuteTime": {
          "end_time": "2023-08-24T15:43:42.444416Z",
          "start_time": "2023-08-24T15:43:42.431012Z"
        },
        "id": "c4ed935509ed685f",
        "outputId": "74e3d5e6-00ca-464a-a59a-8f077d7b1a2a"
      },
      "id": "c4ed935509ed685f"
    },
    {
      "cell_type": "code",
      "execution_count": null,
      "outputs": [
        {
          "data": {
            "text/plain": "(5572, 2)"
          },
          "execution_count": 4,
          "metadata": {},
          "output_type": "execute_result"
        }
      ],
      "source": [
        "df.shape"
      ],
      "metadata": {
        "ExecuteTime": {
          "end_time": "2023-08-24T15:43:43.859733Z",
          "start_time": "2023-08-24T15:43:43.850433Z"
        },
        "id": "dd22de8a3bbe7121",
        "outputId": "1326fd6b-b8a8-45e5-81d8-4e7d19a7e601"
      },
      "id": "dd22de8a3bbe7121"
    },
    {
      "cell_type": "code",
      "execution_count": null,
      "outputs": [
        {
          "name": "stdout",
          "output_type": "stream",
          "text": [
            "<class 'pandas.core.frame.DataFrame'>\n",
            "RangeIndex: 5572 entries, 0 to 5571\n",
            "Data columns (total 2 columns):\n",
            " #   Column    Non-Null Count  Dtype \n",
            "---  ------    --------------  ----- \n",
            " 0   label     5572 non-null   object\n",
            " 1   messages  5572 non-null   object\n",
            "dtypes: object(2)\n",
            "memory usage: 87.2+ KB\n"
          ]
        }
      ],
      "source": [
        "df.info()"
      ],
      "metadata": {
        "ExecuteTime": {
          "end_time": "2023-08-24T15:43:45.186582Z",
          "start_time": "2023-08-24T15:43:45.174394Z"
        },
        "id": "d6e0d5cb2c03e6f0",
        "outputId": "76d95fa7-9a28-4fbd-f602-bf9bd6451bc1"
      },
      "id": "d6e0d5cb2c03e6f0"
    },
    {
      "cell_type": "markdown",
      "source": [
        "#Data Cleaning and Pre-processing"
      ],
      "metadata": {
        "collapsed": false,
        "id": "5f101d547b4f69e"
      },
      "id": "5f101d547b4f69e"
    },
    {
      "cell_type": "code",
      "execution_count": null,
      "outputs": [],
      "source": [
        "import re\n",
        "from nltk.stem import WordNetLemmatizer\n",
        "from nltk.corpus import stopwords"
      ],
      "metadata": {
        "ExecuteTime": {
          "end_time": "2023-08-24T15:43:49.537333Z",
          "start_time": "2023-08-24T15:43:49.529296Z"
        },
        "id": "28a976159f3205b8"
      },
      "id": "28a976159f3205b8"
    },
    {
      "cell_type": "code",
      "execution_count": null,
      "outputs": [],
      "source": [
        "corpus = []  #Is the empty array of clean sentences\n",
        "lem = WordNetLemmatizer()\n",
        "for i in range(len(df)):\n",
        "    review = re.sub('[^a-zA-Z]',' ', df['messages'][i])\n",
        "    review = review.lower()\n",
        "    review = review.split()\n",
        "    review = [lem.lemmatize(word) for word in review if word not in stopwords.words('english')]\n",
        "    review = ' '.join(review)\n",
        "    corpus.append(review)"
      ],
      "metadata": {
        "ExecuteTime": {
          "end_time": "2023-08-24T15:43:55.629507Z",
          "start_time": "2023-08-24T15:43:51.630277Z"
        },
        "id": "9bf7b8c1312073dc"
      },
      "id": "9bf7b8c1312073dc"
    },
    {
      "cell_type": "markdown",
      "source": [
        "#Creating a BOW model"
      ],
      "metadata": {
        "collapsed": false,
        "id": "cdd4b0fcc9a32307"
      },
      "id": "cdd4b0fcc9a32307"
    },
    {
      "cell_type": "code",
      "execution_count": null,
      "outputs": [],
      "source": [
        "from sklearn.feature_extraction.text import CountVectorizer\n",
        "cv = CountVectorizer(max_features=5000)\n",
        "#max_feat is the no of columns in the matrix or no of words\n",
        "\n",
        "X = cv.fit_transform(corpus).toarray()"
      ],
      "metadata": {
        "ExecuteTime": {
          "end_time": "2023-08-24T15:43:56.615369Z",
          "start_time": "2023-08-24T15:43:56.545160Z"
        },
        "id": "c8ef9209609b988c"
      },
      "id": "c8ef9209609b988c"
    },
    {
      "cell_type": "code",
      "execution_count": null,
      "outputs": [
        {
          "data": {
            "text/plain": "array([[0, 0, 0, ..., 0, 0, 0],\n       [0, 0, 0, ..., 0, 0, 0],\n       [0, 0, 0, ..., 0, 0, 0],\n       ...,\n       [0, 0, 0, ..., 0, 0, 0],\n       [0, 0, 0, ..., 0, 0, 0],\n       [0, 0, 0, ..., 0, 0, 0]])"
          },
          "execution_count": 9,
          "metadata": {},
          "output_type": "execute_result"
        }
      ],
      "source": [
        "X"
      ],
      "metadata": {
        "ExecuteTime": {
          "end_time": "2023-08-24T15:43:58.697599Z",
          "start_time": "2023-08-24T15:43:58.693072Z"
        },
        "id": "2b23212f42d92345",
        "outputId": "d8b7d1ba-5556-4349-d063-2a9b26b677ab"
      },
      "id": "2b23212f42d92345"
    },
    {
      "cell_type": "code",
      "execution_count": null,
      "outputs": [],
      "source": [
        "from sklearn.preprocessing import LabelEncoder\n",
        "\n",
        "le = LabelEncoder()\n",
        "df['label']= le.fit_transform(df['label'])"
      ],
      "metadata": {
        "ExecuteTime": {
          "end_time": "2023-08-24T15:44:55.718301Z",
          "start_time": "2023-08-24T15:44:55.706781Z"
        },
        "id": "a561402695282d77"
      },
      "id": "a561402695282d77"
    },
    {
      "cell_type": "code",
      "execution_count": null,
      "outputs": [
        {
          "data": {
            "text/plain": "      label                                           messages\n0         0  Go until jurong point, crazy.. Available only ...\n1         0                      Ok lar... Joking wif u oni...\n2         1  Free entry in 2 a wkly comp to win FA Cup fina...\n3         0  U dun say so early hor... U c already then say...\n4         0  Nah I don't think he goes to usf, he lives aro...\n...     ...                                                ...\n5567      1  This is the 2nd time we have tried 2 contact u...\n5568      0               Will ü b going to esplanade fr home?\n5569      0  Pity, * was in mood for that. So...any other s...\n5570      0  The guy did some bitching but I acted like i'd...\n5571      0                         Rofl. Its true to its name\n\n[5572 rows x 2 columns]",
            "text/html": "<div>\n<style scoped>\n    .dataframe tbody tr th:only-of-type {\n        vertical-align: middle;\n    }\n\n    .dataframe tbody tr th {\n        vertical-align: top;\n    }\n\n    .dataframe thead th {\n        text-align: right;\n    }\n</style>\n<table border=\"1\" class=\"dataframe\">\n  <thead>\n    <tr style=\"text-align: right;\">\n      <th></th>\n      <th>label</th>\n      <th>messages</th>\n    </tr>\n  </thead>\n  <tbody>\n    <tr>\n      <th>0</th>\n      <td>0</td>\n      <td>Go until jurong point, crazy.. Available only ...</td>\n    </tr>\n    <tr>\n      <th>1</th>\n      <td>0</td>\n      <td>Ok lar... Joking wif u oni...</td>\n    </tr>\n    <tr>\n      <th>2</th>\n      <td>1</td>\n      <td>Free entry in 2 a wkly comp to win FA Cup fina...</td>\n    </tr>\n    <tr>\n      <th>3</th>\n      <td>0</td>\n      <td>U dun say so early hor... U c already then say...</td>\n    </tr>\n    <tr>\n      <th>4</th>\n      <td>0</td>\n      <td>Nah I don't think he goes to usf, he lives aro...</td>\n    </tr>\n    <tr>\n      <th>...</th>\n      <td>...</td>\n      <td>...</td>\n    </tr>\n    <tr>\n      <th>5567</th>\n      <td>1</td>\n      <td>This is the 2nd time we have tried 2 contact u...</td>\n    </tr>\n    <tr>\n      <th>5568</th>\n      <td>0</td>\n      <td>Will ü b going to esplanade fr home?</td>\n    </tr>\n    <tr>\n      <th>5569</th>\n      <td>0</td>\n      <td>Pity, * was in mood for that. So...any other s...</td>\n    </tr>\n    <tr>\n      <th>5570</th>\n      <td>0</td>\n      <td>The guy did some bitching but I acted like i'd...</td>\n    </tr>\n    <tr>\n      <th>5571</th>\n      <td>0</td>\n      <td>Rofl. Its true to its name</td>\n    </tr>\n  </tbody>\n</table>\n<p>5572 rows × 2 columns</p>\n</div>"
          },
          "execution_count": 11,
          "metadata": {},
          "output_type": "execute_result"
        }
      ],
      "source": [
        "df"
      ],
      "metadata": {
        "ExecuteTime": {
          "end_time": "2023-08-24T15:45:47.553655Z",
          "start_time": "2023-08-24T15:45:47.548234Z"
        },
        "id": "76df2c1bcdb95ea2",
        "outputId": "cc82df59-6e9a-406b-c8cb-8204e40917d1"
      },
      "id": "76df2c1bcdb95ea2"
    },
    {
      "cell_type": "markdown",
      "source": [
        "#Train Test Split"
      ],
      "metadata": {
        "collapsed": false,
        "id": "67388e126b8fb9c4"
      },
      "id": "67388e126b8fb9c4"
    },
    {
      "cell_type": "code",
      "execution_count": null,
      "outputs": [],
      "source": [
        "from sklearn.model_selection import train_test_split\n",
        "\n",
        "y = df['label']\n",
        "\n",
        "X_train, X_test, y_train, y_test = train_test_split(X,y, train_size=0.8, test_size=0.2, random_state=952)"
      ],
      "metadata": {
        "ExecuteTime": {
          "end_time": "2023-08-24T15:45:58.283391Z",
          "start_time": "2023-08-24T15:45:58.193870Z"
        },
        "id": "fea8cedf2f9cfa65"
      },
      "id": "fea8cedf2f9cfa65"
    },
    {
      "cell_type": "markdown",
      "source": [
        "#Naive Bayes Classifier"
      ],
      "metadata": {
        "collapsed": false,
        "id": "ae98ec43e1cea44e"
      },
      "id": "ae98ec43e1cea44e"
    },
    {
      "cell_type": "code",
      "execution_count": null,
      "outputs": [],
      "source": [
        "from sklearn.naive_bayes import MultinomialNB\n",
        "\n",
        "spam_detection_model = MultinomialNB().fit(X_train,y_train)"
      ],
      "metadata": {
        "ExecuteTime": {
          "end_time": "2023-08-24T15:46:10.882707Z",
          "start_time": "2023-08-24T15:46:10.684810Z"
        },
        "id": "9ab35ad11480dd4f"
      },
      "id": "9ab35ad11480dd4f"
    },
    {
      "cell_type": "code",
      "execution_count": null,
      "outputs": [],
      "source": [
        "y_pred = spam_detection_model.predict(X_test)"
      ],
      "metadata": {
        "ExecuteTime": {
          "end_time": "2023-08-24T15:46:12.692158Z",
          "start_time": "2023-08-24T15:46:12.615577Z"
        },
        "id": "b3cf89231cfaf643"
      },
      "id": "b3cf89231cfaf643"
    },
    {
      "cell_type": "code",
      "execution_count": null,
      "outputs": [
        {
          "name": "stdout",
          "output_type": "stream",
          "text": [
            "Confusion Matrix = \n",
            " [[965  13]\n",
            " [ 10 127]] \n",
            " and Accuracy = 0.979372197309417\n"
          ]
        }
      ],
      "source": [
        "from sklearn.metrics import confusion_matrix, accuracy_score\n",
        "\n",
        "conf_matrix = confusion_matrix(y_test,y_pred)\n",
        "acc = accuracy_score(y_test, y_pred)\n",
        "print(f\"Confusion Matrix = \\n {conf_matrix} \\n and Accuracy = {acc}\")"
      ],
      "metadata": {
        "ExecuteTime": {
          "end_time": "2023-08-24T15:46:13.984165Z",
          "start_time": "2023-08-24T15:46:13.977778Z"
        },
        "id": "76de9957ddfc2873",
        "outputId": "7a1355e3-fc6e-47b2-adec-9d86bf4c9f38"
      },
      "id": "76de9957ddfc2873"
    },
    {
      "cell_type": "code",
      "execution_count": null,
      "outputs": [],
      "source": [],
      "metadata": {
        "ExecuteTime": {
          "start_time": "2023-08-24T15:41:43.786912Z"
        },
        "id": "674f62e5530119db"
      },
      "id": "674f62e5530119db"
    }
  ],
  "metadata": {
    "kernelspec": {
      "display_name": "Python 3",
      "language": "python",
      "name": "python3"
    },
    "language_info": {
      "codemirror_mode": {
        "name": "ipython",
        "version": 2
      },
      "file_extension": ".py",
      "mimetype": "text/x-python",
      "name": "python",
      "nbconvert_exporter": "python",
      "pygments_lexer": "ipython2",
      "version": "2.7.6"
    },
    "colab": {
      "provenance": [],
      "include_colab_link": true
    }
  },
  "nbformat": 4,
  "nbformat_minor": 5
}